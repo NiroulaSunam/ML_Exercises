{
 "cells": [
  {
   "cell_type": "code",
   "execution_count": 44,
   "id": "d6eb1366",
   "metadata": {},
   "outputs": [],
   "source": [
    "import pandas as pd\n",
    "import numpy as np\n",
    "import matplotlib.pyplot as plt\n",
    "from sklearn.linear_model import LinearRegression\n",
    "import math"
   ]
  },
  {
   "cell_type": "code",
   "execution_count": 58,
   "id": "2f736d91",
   "metadata": {},
   "outputs": [],
   "source": [
    "def gradient_descent(x,y):\n",
    "    iterations = 1000000\n",
    "    learning_rate = 0.0002\n",
    "    m_current = b_current = 0\n",
    "    n = len(x)\n",
    "    mse_previous  =0\n",
    "    \n",
    "    for i in range(iterations):\n",
    "        y_predicted = m_current * x + b_current\n",
    "        mse = (1/n)*sum([val**2 for val in (y-y_predicted)])\n",
    "        dm = -(2/n)*sum(x*(y-y_predicted))\n",
    "        db = -(2/n)*sum(y-y_predicted)\n",
    "        m_current = m_current - learning_rate * dm\n",
    "        b_current = b_current - learning_rate * db\n",
    "        if math.isclose(mse, mse_previous,  rel_tol=1e-20):\n",
    "            break\n",
    "        mse_previous = mse\n",
    "    return m_current, b_current"
   ]
  },
  {
   "cell_type": "code",
   "execution_count": 51,
   "id": "a7b202c3",
   "metadata": {},
   "outputs": [],
   "source": [
    "def predict_using_sklean():\n",
    "    df = pd.read_csv(\"test_scores.csv\")\n",
    "    r = LinearRegression()\n",
    "    r.fit(df[['math']],df.cs)\n",
    "    return r.coef_, r.intercept_"
   ]
  },
  {
   "cell_type": "code",
   "execution_count": 52,
   "id": "b3a2110f",
   "metadata": {},
   "outputs": [],
   "source": [
    "if __name__ == \"__main__\":\n",
    "    df = pd.read_csv(\"test_scores.csv\")\n",
    "    x = np.array(df.math)\n",
    "    y = np.array(df.cs)"
   ]
  },
  {
   "cell_type": "code",
   "execution_count": 59,
   "id": "4d6aaade",
   "metadata": {},
   "outputs": [],
   "source": [
    "m, y =  gradient_descent(x,y)"
   ]
  },
  {
   "cell_type": "code",
   "execution_count": 54,
   "id": "6c8808b6",
   "metadata": {
    "scrolled": false
   },
   "outputs": [
    {
     "data": {
      "text/plain": [
       "(array([1.01773624]), 1.9152193111569176)"
      ]
     },
     "execution_count": 54,
     "metadata": {},
     "output_type": "execute_result"
    }
   ],
   "source": [
    "predict_using_sklean()"
   ]
  }
 ],
 "metadata": {
  "kernelspec": {
   "display_name": "Python 3 (ipykernel)",
   "language": "python",
   "name": "python3"
  },
  "language_info": {
   "codemirror_mode": {
    "name": "ipython",
    "version": 3
   },
   "file_extension": ".py",
   "mimetype": "text/x-python",
   "name": "python",
   "nbconvert_exporter": "python",
   "pygments_lexer": "ipython3",
   "version": "3.9.13"
  }
 },
 "nbformat": 4,
 "nbformat_minor": 5
}
