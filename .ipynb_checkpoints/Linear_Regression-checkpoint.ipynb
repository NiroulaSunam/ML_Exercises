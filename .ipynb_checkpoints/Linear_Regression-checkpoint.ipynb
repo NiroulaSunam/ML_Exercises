{
 "cells": [
  {
   "cell_type": "code",
   "execution_count": 1,
   "id": "3e8bac03",
   "metadata": {},
   "outputs": [],
   "source": [
    "import pandas as pd\n",
    "import numpy as np\n",
    "import matplotlib.pyplot as plt\n",
    "from sklearn import linear_model"
   ]
  },
  {
   "cell_type": "markdown",
   "id": "9c060282",
   "metadata": {},
   "source": [
    "Predict canada's per capita income in year 2020. \\\n",
    "<b> canada_per_capita_income.csv </b> \\\n",
    "Using this build a regression model and predict the per capita income fo canadian citizens in year 2020"
   ]
  },
  {
   "cell_type": "code",
   "execution_count": 2,
   "id": "7ae557db",
   "metadata": {},
   "outputs": [],
   "source": [
    "df = pd.read_csv('canada_per_capita_income.csv')"
   ]
  },
  {
   "cell_type": "code",
   "execution_count": 3,
   "id": "7161a066",
   "metadata": {},
   "outputs": [],
   "source": [
    "df.rename(columns={'per capita income (US$)': 'per_capita_income_US'}, inplace=True)"
   ]
  },
  {
   "cell_type": "code",
   "execution_count": 4,
   "id": "96338a14",
   "metadata": {},
   "outputs": [
    {
     "data": {
      "text/html": [
       "<div>\n",
       "<style scoped>\n",
       "    .dataframe tbody tr th:only-of-type {\n",
       "        vertical-align: middle;\n",
       "    }\n",
       "\n",
       "    .dataframe tbody tr th {\n",
       "        vertical-align: top;\n",
       "    }\n",
       "\n",
       "    .dataframe thead th {\n",
       "        text-align: right;\n",
       "    }\n",
       "</style>\n",
       "<table border=\"1\" class=\"dataframe\">\n",
       "  <thead>\n",
       "    <tr style=\"text-align: right;\">\n",
       "      <th></th>\n",
       "      <th>year</th>\n",
       "      <th>per_capita_income_US</th>\n",
       "    </tr>\n",
       "  </thead>\n",
       "  <tbody>\n",
       "    <tr>\n",
       "      <th>0</th>\n",
       "      <td>1970</td>\n",
       "      <td>3399.299037</td>\n",
       "    </tr>\n",
       "    <tr>\n",
       "      <th>1</th>\n",
       "      <td>1971</td>\n",
       "      <td>3768.297935</td>\n",
       "    </tr>\n",
       "    <tr>\n",
       "      <th>2</th>\n",
       "      <td>1972</td>\n",
       "      <td>4251.175484</td>\n",
       "    </tr>\n",
       "    <tr>\n",
       "      <th>3</th>\n",
       "      <td>1973</td>\n",
       "      <td>4804.463248</td>\n",
       "    </tr>\n",
       "    <tr>\n",
       "      <th>4</th>\n",
       "      <td>1974</td>\n",
       "      <td>5576.514583</td>\n",
       "    </tr>\n",
       "  </tbody>\n",
       "</table>\n",
       "</div>"
      ],
      "text/plain": [
       "   year  per_capita_income_US\n",
       "0  1970           3399.299037\n",
       "1  1971           3768.297935\n",
       "2  1972           4251.175484\n",
       "3  1973           4804.463248\n",
       "4  1974           5576.514583"
      ]
     },
     "execution_count": 4,
     "metadata": {},
     "output_type": "execute_result"
    }
   ],
   "source": [
    "df.head(5)"
   ]
  },
  {
   "cell_type": "markdown",
   "id": "93223a82",
   "metadata": {},
   "source": [
    "### Separating the year and capita column in two different ways"
   ]
  },
  {
   "cell_type": "code",
   "execution_count": 5,
   "id": "7424566d",
   "metadata": {},
   "outputs": [],
   "source": [
    "year = df.drop('per_capita_income_US',axis='columns')\n",
    "df_year = year.to_numpy()"
   ]
  },
  {
   "cell_type": "code",
   "execution_count": 6,
   "id": "9538862f",
   "metadata": {},
   "outputs": [],
   "source": [
    "capita = df.per_capita_income_US\n",
    "df_capita = capita.to_numpy()"
   ]
  },
  {
   "cell_type": "markdown",
   "id": "67ba6a0f",
   "metadata": {},
   "source": [
    "### Using LinearRegression and Fit to Train Model in Linear Regression "
   ]
  },
  {
   "cell_type": "code",
   "execution_count": 7,
   "id": "7e518816",
   "metadata": {},
   "outputs": [
    {
     "data": {
      "text/plain": [
       "LinearRegression()"
      ]
     },
     "execution_count": 7,
     "metadata": {},
     "output_type": "execute_result"
    }
   ],
   "source": [
    "reg = linear_model.LinearRegression()\n",
    "reg.fit(df_year,df_capita)"
   ]
  },
  {
   "cell_type": "code",
   "execution_count": 8,
   "id": "9bbf1518",
   "metadata": {},
   "outputs": [
    {
     "data": {
      "text/plain": [
       "array([41288.69409442])"
      ]
     },
     "execution_count": 8,
     "metadata": {},
     "output_type": "execute_result"
    }
   ],
   "source": [
    "reg.predict([[2020]]) "
   ]
  },
  {
   "cell_type": "code",
   "execution_count": 9,
   "id": "43ce62e0",
   "metadata": {},
   "outputs": [
    {
     "data": {
      "text/plain": [
       "array([828.46507522])"
      ]
     },
     "execution_count": 9,
     "metadata": {},
     "output_type": "execute_result"
    }
   ],
   "source": [
    "reg.coef_ #y = mx+c"
   ]
  },
  {
   "cell_type": "code",
   "execution_count": 10,
   "id": "f77f53a6",
   "metadata": {},
   "outputs": [
    {
     "data": {
      "text/plain": [
       "-1632210.7578554575"
      ]
     },
     "execution_count": 10,
     "metadata": {},
     "output_type": "execute_result"
    }
   ],
   "source": [
    "reg.intercept_"
   ]
  },
  {
   "cell_type": "markdown",
   "id": "4fcb4ce1",
   "metadata": {},
   "source": [
    "### Creating a new pd.DataFrame to capture the linear regression line in the plot of the data"
   ]
  },
  {
   "cell_type": "code",
   "execution_count": 32,
   "id": "a4e1d835",
   "metadata": {
    "scrolled": false
   },
   "outputs": [
    {
     "data": {
      "text/html": [
       "<div>\n",
       "<style scoped>\n",
       "    .dataframe tbody tr th:only-of-type {\n",
       "        vertical-align: middle;\n",
       "    }\n",
       "\n",
       "    .dataframe tbody tr th {\n",
       "        vertical-align: top;\n",
       "    }\n",
       "\n",
       "    .dataframe thead th {\n",
       "        text-align: right;\n",
       "    }\n",
       "</style>\n",
       "<table border=\"1\" class=\"dataframe\">\n",
       "  <thead>\n",
       "    <tr style=\"text-align: right;\">\n",
       "      <th></th>\n",
       "      <th>year</th>\n",
       "      <th>capita</th>\n",
       "    </tr>\n",
       "  </thead>\n",
       "  <tbody>\n",
       "  </tbody>\n",
       "</table>\n",
       "</div>"
      ],
      "text/plain": [
       "Empty DataFrame\n",
       "Columns: [year, capita]\n",
       "Index: []"
      ]
     },
     "execution_count": 32,
     "metadata": {},
     "output_type": "execute_result"
    }
   ],
   "source": [
    "my_df = pd.DataFrame(columns=['year','capita'])\n",
    "my_df    "
   ]
  },
  {
   "cell_type": "code",
   "execution_count": 33,
   "id": "486fd75a",
   "metadata": {
    "scrolled": false
   },
   "outputs": [
    {
     "name": "stderr",
     "output_type": "stream",
     "text": [
      "C:\\Users\\sunam\\AppData\\Local\\Temp\\ipykernel_15636\\2869463130.py:8: FutureWarning: The frame.append method is deprecated and will be removed from pandas in a future version. Use pandas.concat instead.\n",
      "  my_df = my_df.append({'year':year, 'capita':capita}, ignore_index=True)\n",
      "C:\\Users\\sunam\\AppData\\Local\\Temp\\ipykernel_15636\\2869463130.py:8: FutureWarning: The frame.append method is deprecated and will be removed from pandas in a future version. Use pandas.concat instead.\n",
      "  my_df = my_df.append({'year':year, 'capita':capita}, ignore_index=True)\n",
      "C:\\Users\\sunam\\AppData\\Local\\Temp\\ipykernel_15636\\2869463130.py:8: FutureWarning: The frame.append method is deprecated and will be removed from pandas in a future version. Use pandas.concat instead.\n",
      "  my_df = my_df.append({'year':year, 'capita':capita}, ignore_index=True)\n",
      "C:\\Users\\sunam\\AppData\\Local\\Temp\\ipykernel_15636\\2869463130.py:8: FutureWarning: The frame.append method is deprecated and will be removed from pandas in a future version. Use pandas.concat instead.\n",
      "  my_df = my_df.append({'year':year, 'capita':capita}, ignore_index=True)\n",
      "C:\\Users\\sunam\\AppData\\Local\\Temp\\ipykernel_15636\\2869463130.py:8: FutureWarning: The frame.append method is deprecated and will be removed from pandas in a future version. Use pandas.concat instead.\n",
      "  my_df = my_df.append({'year':year, 'capita':capita}, ignore_index=True)\n",
      "C:\\Users\\sunam\\AppData\\Local\\Temp\\ipykernel_15636\\2869463130.py:8: FutureWarning: The frame.append method is deprecated and will be removed from pandas in a future version. Use pandas.concat instead.\n",
      "  my_df = my_df.append({'year':year, 'capita':capita}, ignore_index=True)\n",
      "C:\\Users\\sunam\\AppData\\Local\\Temp\\ipykernel_15636\\2869463130.py:8: FutureWarning: The frame.append method is deprecated and will be removed from pandas in a future version. Use pandas.concat instead.\n",
      "  my_df = my_df.append({'year':year, 'capita':capita}, ignore_index=True)\n",
      "C:\\Users\\sunam\\AppData\\Local\\Temp\\ipykernel_15636\\2869463130.py:8: FutureWarning: The frame.append method is deprecated and will be removed from pandas in a future version. Use pandas.concat instead.\n",
      "  my_df = my_df.append({'year':year, 'capita':capita}, ignore_index=True)\n",
      "C:\\Users\\sunam\\AppData\\Local\\Temp\\ipykernel_15636\\2869463130.py:8: FutureWarning: The frame.append method is deprecated and will be removed from pandas in a future version. Use pandas.concat instead.\n",
      "  my_df = my_df.append({'year':year, 'capita':capita}, ignore_index=True)\n",
      "C:\\Users\\sunam\\AppData\\Local\\Temp\\ipykernel_15636\\2869463130.py:8: FutureWarning: The frame.append method is deprecated and will be removed from pandas in a future version. Use pandas.concat instead.\n",
      "  my_df = my_df.append({'year':year, 'capita':capita}, ignore_index=True)\n",
      "C:\\Users\\sunam\\AppData\\Local\\Temp\\ipykernel_15636\\2869463130.py:8: FutureWarning: The frame.append method is deprecated and will be removed from pandas in a future version. Use pandas.concat instead.\n",
      "  my_df = my_df.append({'year':year, 'capita':capita}, ignore_index=True)\n",
      "C:\\Users\\sunam\\AppData\\Local\\Temp\\ipykernel_15636\\2869463130.py:8: FutureWarning: The frame.append method is deprecated and will be removed from pandas in a future version. Use pandas.concat instead.\n",
      "  my_df = my_df.append({'year':year, 'capita':capita}, ignore_index=True)\n",
      "C:\\Users\\sunam\\AppData\\Local\\Temp\\ipykernel_15636\\2869463130.py:8: FutureWarning: The frame.append method is deprecated and will be removed from pandas in a future version. Use pandas.concat instead.\n",
      "  my_df = my_df.append({'year':year, 'capita':capita}, ignore_index=True)\n",
      "C:\\Users\\sunam\\AppData\\Local\\Temp\\ipykernel_15636\\2869463130.py:8: FutureWarning: The frame.append method is deprecated and will be removed from pandas in a future version. Use pandas.concat instead.\n",
      "  my_df = my_df.append({'year':year, 'capita':capita}, ignore_index=True)\n",
      "C:\\Users\\sunam\\AppData\\Local\\Temp\\ipykernel_15636\\2869463130.py:8: FutureWarning: The frame.append method is deprecated and will be removed from pandas in a future version. Use pandas.concat instead.\n",
      "  my_df = my_df.append({'year':year, 'capita':capita}, ignore_index=True)\n",
      "C:\\Users\\sunam\\AppData\\Local\\Temp\\ipykernel_15636\\2869463130.py:8: FutureWarning: The frame.append method is deprecated and will be removed from pandas in a future version. Use pandas.concat instead.\n",
      "  my_df = my_df.append({'year':year, 'capita':capita}, ignore_index=True)\n",
      "C:\\Users\\sunam\\AppData\\Local\\Temp\\ipykernel_15636\\2869463130.py:8: FutureWarning: The frame.append method is deprecated and will be removed from pandas in a future version. Use pandas.concat instead.\n",
      "  my_df = my_df.append({'year':year, 'capita':capita}, ignore_index=True)\n",
      "C:\\Users\\sunam\\AppData\\Local\\Temp\\ipykernel_15636\\2869463130.py:8: FutureWarning: The frame.append method is deprecated and will be removed from pandas in a future version. Use pandas.concat instead.\n",
      "  my_df = my_df.append({'year':year, 'capita':capita}, ignore_index=True)\n",
      "C:\\Users\\sunam\\AppData\\Local\\Temp\\ipykernel_15636\\2869463130.py:8: FutureWarning: The frame.append method is deprecated and will be removed from pandas in a future version. Use pandas.concat instead.\n",
      "  my_df = my_df.append({'year':year, 'capita':capita}, ignore_index=True)\n",
      "C:\\Users\\sunam\\AppData\\Local\\Temp\\ipykernel_15636\\2869463130.py:8: FutureWarning: The frame.append method is deprecated and will be removed from pandas in a future version. Use pandas.concat instead.\n",
      "  my_df = my_df.append({'year':year, 'capita':capita}, ignore_index=True)\n",
      "C:\\Users\\sunam\\AppData\\Local\\Temp\\ipykernel_15636\\2869463130.py:8: FutureWarning: The frame.append method is deprecated and will be removed from pandas in a future version. Use pandas.concat instead.\n",
      "  my_df = my_df.append({'year':year, 'capita':capita}, ignore_index=True)\n",
      "C:\\Users\\sunam\\AppData\\Local\\Temp\\ipykernel_15636\\2869463130.py:8: FutureWarning: The frame.append method is deprecated and will be removed from pandas in a future version. Use pandas.concat instead.\n",
      "  my_df = my_df.append({'year':year, 'capita':capita}, ignore_index=True)\n",
      "C:\\Users\\sunam\\AppData\\Local\\Temp\\ipykernel_15636\\2869463130.py:8: FutureWarning: The frame.append method is deprecated and will be removed from pandas in a future version. Use pandas.concat instead.\n",
      "  my_df = my_df.append({'year':year, 'capita':capita}, ignore_index=True)\n",
      "C:\\Users\\sunam\\AppData\\Local\\Temp\\ipykernel_15636\\2869463130.py:8: FutureWarning: The frame.append method is deprecated and will be removed from pandas in a future version. Use pandas.concat instead.\n",
      "  my_df = my_df.append({'year':year, 'capita':capita}, ignore_index=True)\n",
      "C:\\Users\\sunam\\AppData\\Local\\Temp\\ipykernel_15636\\2869463130.py:8: FutureWarning: The frame.append method is deprecated and will be removed from pandas in a future version. Use pandas.concat instead.\n",
      "  my_df = my_df.append({'year':year, 'capita':capita}, ignore_index=True)\n",
      "C:\\Users\\sunam\\AppData\\Local\\Temp\\ipykernel_15636\\2869463130.py:8: FutureWarning: The frame.append method is deprecated and will be removed from pandas in a future version. Use pandas.concat instead.\n",
      "  my_df = my_df.append({'year':year, 'capita':capita}, ignore_index=True)\n",
      "C:\\Users\\sunam\\AppData\\Local\\Temp\\ipykernel_15636\\2869463130.py:8: FutureWarning: The frame.append method is deprecated and will be removed from pandas in a future version. Use pandas.concat instead.\n",
      "  my_df = my_df.append({'year':year, 'capita':capita}, ignore_index=True)\n",
      "C:\\Users\\sunam\\AppData\\Local\\Temp\\ipykernel_15636\\2869463130.py:8: FutureWarning: The frame.append method is deprecated and will be removed from pandas in a future version. Use pandas.concat instead.\n",
      "  my_df = my_df.append({'year':year, 'capita':capita}, ignore_index=True)\n",
      "C:\\Users\\sunam\\AppData\\Local\\Temp\\ipykernel_15636\\2869463130.py:8: FutureWarning: The frame.append method is deprecated and will be removed from pandas in a future version. Use pandas.concat instead.\n",
      "  my_df = my_df.append({'year':year, 'capita':capita}, ignore_index=True)\n",
      "C:\\Users\\sunam\\AppData\\Local\\Temp\\ipykernel_15636\\2869463130.py:8: FutureWarning: The frame.append method is deprecated and will be removed from pandas in a future version. Use pandas.concat instead.\n",
      "  my_df = my_df.append({'year':year, 'capita':capita}, ignore_index=True)\n",
      "C:\\Users\\sunam\\AppData\\Local\\Temp\\ipykernel_15636\\2869463130.py:8: FutureWarning: The frame.append method is deprecated and will be removed from pandas in a future version. Use pandas.concat instead.\n",
      "  my_df = my_df.append({'year':year, 'capita':capita}, ignore_index=True)\n",
      "C:\\Users\\sunam\\AppData\\Local\\Temp\\ipykernel_15636\\2869463130.py:8: FutureWarning: The frame.append method is deprecated and will be removed from pandas in a future version. Use pandas.concat instead.\n",
      "  my_df = my_df.append({'year':year, 'capita':capita}, ignore_index=True)\n",
      "C:\\Users\\sunam\\AppData\\Local\\Temp\\ipykernel_15636\\2869463130.py:8: FutureWarning: The frame.append method is deprecated and will be removed from pandas in a future version. Use pandas.concat instead.\n",
      "  my_df = my_df.append({'year':year, 'capita':capita}, ignore_index=True)\n",
      "C:\\Users\\sunam\\AppData\\Local\\Temp\\ipykernel_15636\\2869463130.py:8: FutureWarning: The frame.append method is deprecated and will be removed from pandas in a future version. Use pandas.concat instead.\n",
      "  my_df = my_df.append({'year':year, 'capita':capita}, ignore_index=True)\n",
      "C:\\Users\\sunam\\AppData\\Local\\Temp\\ipykernel_15636\\2869463130.py:8: FutureWarning: The frame.append method is deprecated and will be removed from pandas in a future version. Use pandas.concat instead.\n",
      "  my_df = my_df.append({'year':year, 'capita':capita}, ignore_index=True)\n",
      "C:\\Users\\sunam\\AppData\\Local\\Temp\\ipykernel_15636\\2869463130.py:8: FutureWarning: The frame.append method is deprecated and will be removed from pandas in a future version. Use pandas.concat instead.\n",
      "  my_df = my_df.append({'year':year, 'capita':capita}, ignore_index=True)\n",
      "C:\\Users\\sunam\\AppData\\Local\\Temp\\ipykernel_15636\\2869463130.py:8: FutureWarning: The frame.append method is deprecated and will be removed from pandas in a future version. Use pandas.concat instead.\n",
      "  my_df = my_df.append({'year':year, 'capita':capita}, ignore_index=True)\n",
      "C:\\Users\\sunam\\AppData\\Local\\Temp\\ipykernel_15636\\2869463130.py:8: FutureWarning: The frame.append method is deprecated and will be removed from pandas in a future version. Use pandas.concat instead.\n",
      "  my_df = my_df.append({'year':year, 'capita':capita}, ignore_index=True)\n",
      "C:\\Users\\sunam\\AppData\\Local\\Temp\\ipykernel_15636\\2869463130.py:8: FutureWarning: The frame.append method is deprecated and will be removed from pandas in a future version. Use pandas.concat instead.\n",
      "  my_df = my_df.append({'year':year, 'capita':capita}, ignore_index=True)\n",
      "C:\\Users\\sunam\\AppData\\Local\\Temp\\ipykernel_15636\\2869463130.py:8: FutureWarning: The frame.append method is deprecated and will be removed from pandas in a future version. Use pandas.concat instead.\n",
      "  my_df = my_df.append({'year':year, 'capita':capita}, ignore_index=True)\n",
      "C:\\Users\\sunam\\AppData\\Local\\Temp\\ipykernel_15636\\2869463130.py:8: FutureWarning: The frame.append method is deprecated and will be removed from pandas in a future version. Use pandas.concat instead.\n",
      "  my_df = my_df.append({'year':year, 'capita':capita}, ignore_index=True)\n",
      "C:\\Users\\sunam\\AppData\\Local\\Temp\\ipykernel_15636\\2869463130.py:8: FutureWarning: The frame.append method is deprecated and will be removed from pandas in a future version. Use pandas.concat instead.\n",
      "  my_df = my_df.append({'year':year, 'capita':capita}, ignore_index=True)\n",
      "C:\\Users\\sunam\\AppData\\Local\\Temp\\ipykernel_15636\\2869463130.py:8: FutureWarning: The frame.append method is deprecated and will be removed from pandas in a future version. Use pandas.concat instead.\n",
      "  my_df = my_df.append({'year':year, 'capita':capita}, ignore_index=True)\n",
      "C:\\Users\\sunam\\AppData\\Local\\Temp\\ipykernel_15636\\2869463130.py:8: FutureWarning: The frame.append method is deprecated and will be removed from pandas in a future version. Use pandas.concat instead.\n",
      "  my_df = my_df.append({'year':year, 'capita':capita}, ignore_index=True)\n",
      "C:\\Users\\sunam\\AppData\\Local\\Temp\\ipykernel_15636\\2869463130.py:8: FutureWarning: The frame.append method is deprecated and will be removed from pandas in a future version. Use pandas.concat instead.\n",
      "  my_df = my_df.append({'year':year, 'capita':capita}, ignore_index=True)\n",
      "C:\\Users\\sunam\\AppData\\Local\\Temp\\ipykernel_15636\\2869463130.py:8: FutureWarning: The frame.append method is deprecated and will be removed from pandas in a future version. Use pandas.concat instead.\n",
      "  my_df = my_df.append({'year':year, 'capita':capita}, ignore_index=True)\n",
      "C:\\Users\\sunam\\AppData\\Local\\Temp\\ipykernel_15636\\2869463130.py:8: FutureWarning: The frame.append method is deprecated and will be removed from pandas in a future version. Use pandas.concat instead.\n",
      "  my_df = my_df.append({'year':year, 'capita':capita}, ignore_index=True)\n",
      "C:\\Users\\sunam\\AppData\\Local\\Temp\\ipykernel_15636\\2869463130.py:8: FutureWarning: The frame.append method is deprecated and will be removed from pandas in a future version. Use pandas.concat instead.\n",
      "  my_df = my_df.append({'year':year, 'capita':capita}, ignore_index=True)\n",
      "C:\\Users\\sunam\\AppData\\Local\\Temp\\ipykernel_15636\\2869463130.py:8: FutureWarning: The frame.append method is deprecated and will be removed from pandas in a future version. Use pandas.concat instead.\n",
      "  my_df = my_df.append({'year':year, 'capita':capita}, ignore_index=True)\n",
      "C:\\Users\\sunam\\AppData\\Local\\Temp\\ipykernel_15636\\2869463130.py:8: FutureWarning: The frame.append method is deprecated and will be removed from pandas in a future version. Use pandas.concat instead.\n",
      "  my_df = my_df.append({'year':year, 'capita':capita}, ignore_index=True)\n"
     ]
    }
   ],
   "source": [
    "year = 1970\n",
    "i = 0\n",
    "for i in range(50):\n",
    "    year = year + 1\n",
    "    #print(year)\n",
    "    capita = reg.predict([[year]])\n",
    "    #print(capita)\n",
    "    my_df = my_df.append({'year':year, 'capita':capita}, ignore_index=True) \n",
    "    my_df.to_numpy()"
   ]
  },
  {
   "cell_type": "code",
   "execution_count": 34,
   "id": "dbef7d56",
   "metadata": {},
   "outputs": [
    {
     "data": {
      "text/plain": [
       "[<matplotlib.lines.Line2D at 0x2075405d190>]"
      ]
     },
     "execution_count": 34,
     "metadata": {},
     "output_type": "execute_result"
    },
    {
     "data": {
      "image/png": "[encoded data removed]",
      "text/plain": [
       "<Figure size 640x480 with 1 Axes>"
      ]
     },
     "metadata": {},
     "output_type": "display_data"
    }
   ],
   "source": [
    "plt.plot(df.year,df.per_capita_income_US,linestyle='',marker='*')\n",
    "plt.plot(my_df.year,my_df.capita)"
   ]
  },
  {
   "cell_type": "code",
   "execution_count": 35,
   "id": "ca35c46b",
   "metadata": {},
   "outputs": [],
   "source": [
    "my_df.to_csv(\"estimated_canada_per_capita_income.csv\")"
   ]
  },
  {
   "cell_type": "code",
   "execution_count": null,
   "id": "843bb2fc",
   "metadata": {},
   "outputs": [],
   "source": []
  }
 ],
 "metadata": {
  "kernelspec": {
   "display_name": "Python 3 (ipykernel)",
   "language": "python",
   "name": "python3"
  },
  "language_info": {
   "codemirror_mode": {
    "name": "ipython",
    "version": 3
   },
   "file_extension": ".py",
   "mimetype": "text/x-python",
   "name": "python",
   "nbconvert_exporter": "python",
   "pygments_lexer": "ipython3",
   "version": "3.9.13"
  }
 },
 "nbformat": 4,
 "nbformat_minor": 5
}
